{
 "cells": [
  {
   "cell_type": "code",
   "execution_count": 18,
   "metadata": {},
   "outputs": [],
   "source": [
    "import torchvision\n",
    "import torch\n",
    "import torchvision.transforms as transforms\n",
    "import PIL.Image as Image"
   ]
  },
  {
   "cell_type": "code",
   "execution_count": 19,
   "metadata": {},
   "outputs": [],
   "source": [
    "classes = [\n",
    "  \"Africa\",\n",
    "  \"Antartica\",\n",
    "  \"Asia\",\n",
    "  \"Australia\",\n",
    "  \"Europe\",\n",
    "  \"North America\",\n",
    "  \"South America\" \n",
    "]"
   ]
  },
  {
   "cell_type": "code",
   "execution_count": 20,
   "metadata": {},
   "outputs": [],
   "source": [
    "model = torch.load('./best_model.pth')"
   ]
  },
  {
   "cell_type": "code",
   "execution_count": 21,
   "metadata": {},
   "outputs": [],
   "source": [
    "mean = [0.5097, 0.5066, 0.4822]\n",
    "std = [0.2250, 0.2168, 0.2422]\n",
    "\n",
    "image_transforms = transforms.Compose([\n",
    "  transforms.Resize((224,224)),\n",
    "  transforms.ToTensor(),\n",
    "  transforms.Normalize(torch.Tensor(mean), torch.Tensor(std))\n",
    "])"
   ]
  },
  {
   "cell_type": "code",
   "execution_count": 22,
   "metadata": {},
   "outputs": [],
   "source": [
    "def classify(model, image_transforms, image_path, classes):\n",
    "  model = model.eval()\n",
    "  image = Image.open(image_path)\n",
    "  image = image_transforms(image).float()\n",
    "  image = image.unsqueeze(0)\n",
    "\n",
    "  output = model(image)\n",
    "  _, predicted = torch.max(output.data, 1)\n",
    "\n",
    "  print(classes[predicted.item()])\n"
   ]
  },
  {
   "cell_type": "code",
   "execution_count": 23,
   "metadata": {},
   "outputs": [
    {
     "name": "stdout",
     "output_type": "stream",
     "text": [
      "Antartica\n"
     ]
    }
   ],
   "source": [
    "classify(model, image_transforms, 'antartica.jpeg', classes)"
   ]
  }
 ],
 "metadata": {
  "kernelspec": {
   "display_name": "venv",
   "language": "python",
   "name": "python3"
  },
  "language_info": {
   "codemirror_mode": {
    "name": "ipython",
    "version": 3
   },
   "file_extension": ".py",
   "mimetype": "text/x-python",
   "name": "python",
   "nbconvert_exporter": "python",
   "pygments_lexer": "ipython3",
   "version": "3.10.13"
  }
 },
 "nbformat": 4,
 "nbformat_minor": 2
}
